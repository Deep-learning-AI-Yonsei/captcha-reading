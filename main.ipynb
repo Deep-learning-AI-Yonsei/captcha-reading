{
 "cells": [
  {
   "cell_type": "code",
   "execution_count": 25,
   "metadata": {},
   "outputs": [],
   "source": [
    "from module.transform import *\n",
    "from torchvision import transforms\n",
    "# 이미지 전처리를 위한 변환 정의\n",
    "transform = transforms.Compose([\n",
    "    # transforms.Resize((224, 224)) 대신 사용자 정의 함수 적용\n",
    "    transforms.Lambda(lambda img: resize_with_padding(img, (224, 224))),\n",
    "    transforms.ToTensor(),  # 이미지를 PyTorch 텐서로 변환\n",
    "])\n",
    "\n",
    "from module.custom_dataset import CaptchaDataset\n",
    "from torch.utils.data import DataLoader\n",
    "\n",
    "# 데이터셋 및 데이터 로더 생성\n",
    "dataset = CaptchaDataset(directory='./data/samples', transform=transform)\n",
    "dataloader = DataLoader(dataset, batch_size=4, shuffle=True)\n",
    "\n",
    "# 데이터 로더 사용 예시\n",
    "for images, labels in dataloader:\n",
    "    # 이곳에서 이미지와 라벨을 모델에 공급하면 됩니다.\n",
    "    pass\n"
   ]
  }
 ],
 "metadata": {
  "language_info": {
   "name": "python"
  }
 },
 "nbformat": 4,
 "nbformat_minor": 2
}
