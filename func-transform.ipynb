{
 "cells": [
  {
   "cell_type": "code",
   "execution_count": 4,
   "metadata": {},
   "outputs": [],
   "source": [
    "import matplotlib.pyplot as plt\n",
    "from torchvision import transforms\n",
    "from PIL import Image\n",
    "\n",
    "def resize_with_padding(img, target_size):\n",
    "    \"\"\"\n",
    "    이미지에 여백을 추가하여 원하는 크기로 조정합니다.\n",
    "    img: PIL 이미지 객체\n",
    "    target_size: (너비, 높이) 형태의 튜플\n",
    "    \"\"\"\n",
    "    # 원본 이미지의 크기를 계산\n",
    "    original_width, original_height = img.size\n",
    "    target_width, target_height = target_size\n",
    "\n",
    "    # 원본과 타겟의 비율 계산\n",
    "    ratio_img = original_width / original_height\n",
    "    ratio_target = target_width / target_height\n",
    "\n",
    "    if ratio_img > ratio_target:\n",
    "        # 이미지가 타겟보다 넓은 경우, 너비 기준으로 맞추고 높이에 여백 추가\n",
    "        resize_width = target_width\n",
    "        resize_height = round(resize_width / ratio_img)\n",
    "    else:\n",
    "        # 이미지가 타겟보다 높은 경우, 높이 기준으로 맞추고 너비에 여백 추가\n",
    "        resize_height = target_height\n",
    "        resize_width = round(resize_height * ratio_img)\n",
    "    \n",
    "    # 이미지 크기 조정\n",
    "    img_resized = img.resize((resize_width, resize_height), Image.ANTIALIAS)\n",
    "\n",
    "    # 여백을 추가하여 최종 이미지 크기를 target_size로 조정\n",
    "    background = Image.new(\"RGB\", target_size, (255, 255, 255))\n",
    "    offset = ((target_width - resize_width) // 2, (target_height - resize_height) // 2)\n",
    "    background.paste(img_resized, offset)\n",
    "\n",
    "    return background"
   ]
  },
  {
   "cell_type": "code",
   "execution_count": 10,
   "metadata": {},
   "outputs": [
    {
     "data": {
      "image/jpeg": "[encoded data removed]",
      "image/png": "[encoded data removed]",
      "text/plain": [
       "<PIL.Image.Image image mode=RGB size=224x224>"
      ]
     },
     "metadata": {},
     "output_type": "display_data"
    }
   ],
   "source": [
    "from PIL import Image, ImageOps\n",
    "\n",
    "def resize_with_padding(img, target_size):\n",
    "    \"\"\"\n",
    "    이미지에 여백을 추가하여 원하는 크기로 조정합니다.\n",
    "    img: PIL 이미지 객체\n",
    "    target_size: (너비, 높이) 형태의 튜플\n",
    "    \"\"\"\n",
    "    # 원본 이미지의 크기를 계산\n",
    "    original_width, original_height = img.size\n",
    "    target_width, target_height = target_size\n",
    "\n",
    "    # 원본과 타겟의 비율 계산\n",
    "    ratio_img = original_width / original_height\n",
    "    ratio_target = target_width / target_height\n",
    "\n",
    "    if ratio_img > ratio_target:\n",
    "        # 이미지가 타겟보다 넓은 경우, 너비 기준으로 맞추고 높이에 여백 추가\n",
    "        resize_width = target_width\n",
    "        resize_height = round(resize_width / ratio_img)\n",
    "    else:\n",
    "        # 이미지가 타겟보다 높은 경우, 높이 기준으로 맞추고 너비에 여백 추가\n",
    "        resize_height = target_height\n",
    "        resize_width = round(resize_height * ratio_img)\n",
    "    \n",
    "    # 이미지 크기 조정 (Image.ANTIALIAS 대신 Image.Resampling.LANCZOS 사용)\n",
    "    img_resized = img.resize((resize_width, resize_height), Image.Resampling.LANCZOS)\n",
    "\n",
    "    # 여백을 추가하여 최종 이미지 크기를 target_size로 조정\n",
    "    background = Image.new(\"RGB\", target_size, (255, 255, 255))\n",
    "    offset = ((target_width - resize_width) // 2, (target_height - resize_height) // 2)\n",
    "    background.paste(img_resized, offset)\n",
    "\n",
    "    return background\n",
    "\n",
    "# 사용 예\n",
    "image_path = 'samples/2b827.png'  # 예시 이미지 경로 변경 필요\n",
    "original_image = Image.open(image_path)\n",
    "\n",
    "# 이미지에 여백을 추가하여 크기 조정\n",
    "transformed_image = resize_with_padding(original_image, (224, 224))\n",
    "\n",
    "# 결과 시각화\n",
    "transformed_image.show()\n"
   ]
  }
 ],
 "metadata": {
  "kernelspec": {
   "display_name": "captcha-reading",
   "language": "python",
   "name": "python3"
  },
  "language_info": {
   "codemirror_mode": {
    "name": "ipython",
    "version": 3
   },
   "file_extension": ".py",
   "mimetype": "text/x-python",
   "name": "python",
   "nbconvert_exporter": "python",
   "pygments_lexer": "ipython3",
   "version": "3.12.2"
  }
 },
 "nbformat": 4,
 "nbformat_minor": 2
}
